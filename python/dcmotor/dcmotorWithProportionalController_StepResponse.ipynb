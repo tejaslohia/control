{
 "cells": [
  {
   "cell_type": "code",
   "execution_count": 1,
   "id": "a0d9c99e",
   "metadata": {},
   "outputs": [
    {
     "name": "stdout",
     "output_type": "stream",
     "text": [
      "\n",
      "100\n",
      "---\n",
      " 1\n",
      "\n",
      "{'RiseTime': 0.10466295877245661, 'SettlingTime': 0.5698316644278193, 'SettlingMin': 0.8525863937391258, 'SettlingMax': 1.135501123590565, 'Overshoot': 24.916478606198062, 'Undershoot': 0, 'Peak': 1.135501123590565, 'PeakTime': 0.23258435282768136, 'SteadyStateValue': 0.9090082719752749}\n"
     ]
    },
    {
     "data": {
      "image/png": "[encoded data removed]",
      "text/plain": [
       "<Figure size 432x288 with 1 Axes>"
      ]
     },
     "metadata": {
      "needs_background": "light"
     },
     "output_type": "display_data"
    }
   ],
   "source": [
    "# This example shows the step response of DC motor with Proportional Controller\n",
    "\n",
    "# Import Library\n",
    "import numpy as np \n",
    "import control as ct \n",
    "from control.matlab import *\n",
    "import matplotlib.pyplot as plt\n",
    "\n",
    "# Transper Funtion of PID Controller\n",
    "def pid_tf(Kp=0, Ki=0, Kd=0):\n",
    "    # PID transfer function: Kp + Ki/s + Kd*s\n",
    "    s = ct.TransferFunction.s\n",
    "    return Kp + Ki / s + Kd * s\n",
    "\n",
    "# DC motor Parameter\n",
    "J = 0.01;\n",
    "b = 0.1;\n",
    "K = 0.01;\n",
    "R = 1;\n",
    "L = 0.5;\n",
    "\n",
    "# DC motor Transfer Function\n",
    "s = tf('s');\n",
    "P_motor = K/((J*s+b)*(L*s+R)+K**2);\n",
    "\n",
    "# Proportional Controller Gain & TF\n",
    "Kp = 100;\n",
    "pid = pid_tf(Kp);\n",
    "print(pid)\n",
    "\n",
    "# Open Loop Transfer Function of DC motor and proportional Controller\n",
    "openloop_tf= ct.series(P_motor,pid)\n",
    "\n",
    "# Closed Loop Transfer Function of DC motor and proportional Controller\n",
    "closeloop_tf=ct.feedback(openloop_tf)\n",
    "\n",
    "# Time array with sampling rate 0.01 and total duration 5\n",
    "dt=0.1\n",
    "sim_time=5\n",
    "t = np.arange(0, sim_time, dt)  # Time from 0 to sim_time\n",
    "\n",
    "#Getting Step Response\n",
    "t,yout=ct.step_response(closeloop_tf,t)\n",
    "\n",
    "a=ct.step_info(closeloop_tf)\n",
    "print(a)\n",
    "\n",
    "#Ploting Step Response\n",
    "plt.title(\"DC Motor Speed With Proportional Control\")\n",
    "plt.plot(t,yout)\n",
    "plt.xlabel(\"Time (Seconds)\")\n",
    "plt.ylabel(\"Motor Response\")\n",
    "plt.grid()\n",
    "plt.show()\n"
   ]
  },
  {
   "cell_type": "code",
   "execution_count": null,
   "id": "989bae8d",
   "metadata": {},
   "outputs": [],
   "source": []
  }
 ],
 "metadata": {
  "kernelspec": {
   "display_name": "Python 3 (ipykernel)",
   "language": "python",
   "name": "python3"
  },
  "language_info": {
   "codemirror_mode": {
    "name": "ipython",
    "version": 3
   },
   "file_extension": ".py",
   "mimetype": "text/x-python",
   "name": "python",
   "nbconvert_exporter": "python",
   "pygments_lexer": "ipython3",
   "version": "3.8.10"
  }
 },
 "nbformat": 4,
 "nbformat_minor": 5
}
