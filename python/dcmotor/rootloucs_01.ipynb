{
 "cells": [
  {
   "cell_type": "code",
   "execution_count": null,
   "id": "221b5d7d",
   "metadata": {},
   "outputs": [],
   "source": [
    "# This example shows Root Locus of transfer function\n",
    "\n",
    "# Import Library\n",
    "import numpy as np \n",
    "import control as clt \n",
    "from control.matlab import *\n",
    "import matplotlib.pyplot as plt\n",
    "\n",
    "#Transfer Function\n",
    "s = clt.tf('s');\n",
    "sys_tf = (s + 7)/(s*(s + 5)*(s + 15)*(s + 20));\n",
    "\n",
    "#gain array and root locus\n",
    "gains=np.linspace(1,5000,5000)\n",
    "r,g=clt.root_locus(sys_tf,kvect=gains,xlim=(-25, 2), ylim=(-15, 15))\n",
    "\n",
    "#Plot Root Locus\n",
    "plt.title('Root Locus of the Second Order System')\n",
    "plt.xlabel('Real')\n",
    "plt.ylabel('Imaginary')\n",
    "plt.grid()\n",
    "plt.show()"
   ]
  }
 ],
 "metadata": {
  "kernelspec": {
   "display_name": "Python 3 (ipykernel)",
   "language": "python",
   "name": "python3"
  },
  "language_info": {
   "codemirror_mode": {
    "name": "ipython",
    "version": 3
   },
   "file_extension": ".py",
   "mimetype": "text/x-python",
   "name": "python",
   "nbconvert_exporter": "python",
   "pygments_lexer": "ipython3",
   "version": "3.8.10"
  }
 },
 "nbformat": 4,
 "nbformat_minor": 5
}
